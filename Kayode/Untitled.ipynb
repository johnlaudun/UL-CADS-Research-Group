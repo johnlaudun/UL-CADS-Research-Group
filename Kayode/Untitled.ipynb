{
 "cells": [
  {
   "cell_type": "markdown",
   "id": "d402d901",
   "metadata": {},
   "source": [
    "# A Notebook\n",
    "\n",
    "Some tex Sm"
   ]
  },
  {
   "cell_type": "code",
   "execution_count": 1,
   "id": "7cdb3195",
   "metadata": {},
   "outputs": [],
   "source": [
    "import re"
   ]
  },
  {
   "cell_type": "code",
   "execution_count": 13,
   "id": "dfaf4589",
   "metadata": {},
   "outputs": [
    {
     "name": "stdout",
     "output_type": "stream",
     "text": [
      "Dr Laudun is my teacher \n"
     ]
    }
   ],
   "source": [
    "text = \"Dr Laudun is my teacher \"\n",
    "print (text)"
   ]
  },
  {
   "cell_type": "markdown",
   "id": "4b21bbf8",
   "metadata": {},
   "source": [
    "# If and Else Coding"
   ]
  },
  {
   "cell_type": "code",
   "execution_count": 27,
   "id": "bf1eff67",
   "metadata": {},
   "outputs": [
    {
     "name": "stdout",
     "output_type": "stream",
     "text": [
      "yes\n"
     ]
    }
   ],
   "source": [
    "if \"Life is cool\":\n",
    "    print(\"yes\")\n",
    "else:\n",
    "    print(\"no\")"
   ]
  },
  {
   "cell_type": "code",
   "execution_count": 38,
   "id": "0f9d3eb0",
   "metadata": {},
   "outputs": [
    {
     "data": {
      "text/plain": [
       "26"
      ]
     },
     "execution_count": 38,
     "metadata": {},
     "output_type": "execute_result"
    }
   ],
   "source": [
    "text = \"Now is the time for all to\"\n",
    "len(text)"
   ]
  },
  {
   "cell_type": "code",
   "execution_count": 39,
   "id": "1b450051",
   "metadata": {},
   "outputs": [
    {
     "name": "stdout",
     "output_type": "stream",
     "text": [
      "['Now', 'is', 'the', 'time', 'for', 'all', 'to']\n"
     ]
    }
   ],
   "source": [
    "import nltk\n",
    "from nltk.tokenize import word_tokenize\n",
    "\n",
    "# Tokenize the text\n",
    "words = word_tokenize(text)\n",
    "\n",
    "# Get the length of the list of words\n",
    "print((words))\n"
   ]
  },
  {
   "cell_type": "code",
   "execution_count": null,
   "id": "49467d77",
   "metadata": {},
   "outputs": [],
   "source": []
  }
 ],
 "metadata": {
  "kernelspec": {
   "display_name": "Python 3 (ipykernel)",
   "language": "python",
   "name": "python3"
  },
  "language_info": {
   "codemirror_mode": {
    "name": "ipython",
    "version": 3
   },
   "file_extension": ".py",
   "mimetype": "text/x-python",
   "name": "python",
   "nbconvert_exporter": "python",
   "pygments_lexer": "ipython3",
   "version": "3.11.5"
  }
 },
 "nbformat": 4,
 "nbformat_minor": 5
}
