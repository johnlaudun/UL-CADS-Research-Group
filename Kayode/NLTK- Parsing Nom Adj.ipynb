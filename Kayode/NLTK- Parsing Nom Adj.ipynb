{
 "cells": [
  {
   "cell_type": "markdown",
   "id": "83f52340-fbf7-4bb1-a4b3-a9a792c29400",
   "metadata": {},
   "source": [
    "## Parsing Nominalized Adjectives using NLTK\n",
    "\n",
    "- Having tested the output of SpaCY with parcing Nominalised Adjectives, I decided to text NLTK as well\n",
    "\n",
    "- I used the sentence: \"The poor worship the rich\"\n",
    "The adjectives 'poor' and 'here' here are nominalised to function in the capacity of a Noun in their respective domains"
   ]
  },
  {
   "cell_type": "code",
   "execution_count": 2,
   "id": "9263014c-5020-490e-9713-72a79b44d4ab",
   "metadata": {
    "tags": []
   },
   "outputs": [
    {
     "name": "stderr",
     "output_type": "stream",
     "text": [
      "[nltk_data] Downloading package punkt to\n",
      "[nltk_data]     C:\\Users\\amusa\\AppData\\Roaming\\nltk_data...\n",
      "[nltk_data]   Package punkt is already up-to-date!\n",
      "[nltk_data] Downloading package averaged_perceptron_tagger to\n",
      "[nltk_data]     C:\\Users\\amusa\\AppData\\Roaming\\nltk_data...\n",
      "[nltk_data]   Package averaged_perceptron_tagger is already up-to-\n",
      "[nltk_data]       date!\n"
     ]
    },
    {
     "name": "stdout",
     "output_type": "stream",
     "text": [
      "                 S                      \n",
      "   ______________|_______                \n",
      "  |       |              NP             \n",
      "  |       |       _______|________       \n",
      "the/DT rich/JJ The/DT poor/JJ worship/NN\n",
      "\n",
      "POS Tags: [('The', 'DT'), ('poor', 'JJ'), ('worship', 'NN'), ('the', 'DT'), ('rich', 'JJ')]\n",
      "\n",
      "Parse Tree:\n",
      "                 S                      \n",
      "   ______________|_______                \n",
      "  |       |              NP             \n",
      "  |       |       _______|________       \n",
      "the/DT rich/JJ The/DT poor/JJ worship/NN\n",
      "\n"
     ]
    }
   ],
   "source": [
    "import nltk\n",
    "from nltk import pos_tag, word_tokenize\n",
    "\n",
    "# Download necessary resources if not already available\n",
    "nltk.download('punkt')\n",
    "nltk.download('averaged_perceptron_tagger')\n",
    "\n",
    "# Step 1: Tokenize the sentence\n",
    "sentence = \"The poor worship the rich\"\n",
    "tokens = word_tokenize(sentence)\n",
    "\n",
    "# Step 2: Part-of-speech tagging\n",
    "pos_tags = pos_tag(tokens)\n",
    "\n",
    "# Step 3: Define a simple grammar for parsing the sentence\n",
    "grammar = r\"\"\"\n",
    "    NP: {<DT>?<JJ>*<NN|NNS>}   # Noun phrase\n",
    "    VP: {<VB.*><NP|PP>*}       # Verb phrase\n",
    "\"\"\"\n",
    "\n",
    "# Step 4: Create a parser using the defined grammar\n",
    "cp = nltk.RegexpParser(grammar)\n",
    "tree = cp.parse(pos_tags)\n",
    "\n",
    "# Step 5: Visualize the parse tree\n",
    "tree.pretty_print()\n",
    "\n",
    "# Optional: Show the tree in a diagram\n",
    "tree.draw()\n",
    "\n",
    "# Output POS tags and tree structure\n",
    "print(\"POS Tags:\", pos_tags)\n",
    "print(\"\\nParse Tree:\")\n",
    "tree.pretty_print()\n"
   ]
  },
  {
   "cell_type": "markdown",
   "id": "862c15e2-6748-4d07-b451-239fff359353",
   "metadata": {},
   "source": [
    "## The Result\n",
    "- The outcome here shows that NLTK is poor with dependency parsing\n",
    "- The output only shows the part of speech of each unit, with no idea about their relationship with others\n",
    "- The adjective 'poor' and 'rich' is tagged as adjectives\n",
    "- In fact, 'worship' is tagged as 'noun' instead of being a verb"
   ]
  },
  {
   "cell_type": "code",
   "execution_count": null,
   "id": "92345f60-b20c-47ea-8752-9cffa6199f07",
   "metadata": {},
   "outputs": [],
   "source": []
  }
 ],
 "metadata": {
  "kernelspec": {
   "display_name": "Python 3 (ipykernel)",
   "language": "python",
   "name": "python3"
  },
  "language_info": {
   "codemirror_mode": {
    "name": "ipython",
    "version": 3
   },
   "file_extension": ".py",
   "mimetype": "text/x-python",
   "name": "python",
   "nbconvert_exporter": "python",
   "pygments_lexer": "ipython3",
   "version": "3.11.5"
  }
 },
 "nbformat": 4,
 "nbformat_minor": 5
}
