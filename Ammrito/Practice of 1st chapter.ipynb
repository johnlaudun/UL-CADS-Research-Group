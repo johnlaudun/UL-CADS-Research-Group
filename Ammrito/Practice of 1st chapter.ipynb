{
 "cells": [
  {
   "cell_type": "code",
   "execution_count": 1,
   "id": "2847ec04-ea28-4b5a-8b11-f9b804f93c27",
   "metadata": {},
   "outputs": [],
   "source": [
    "name = 'Monty'\n",
    "name[0]"
   ]
  },
  {
   "cell_type": "code",
   "execution_count": 3,
   "id": "25b8f4bd-43e4-4254-abbb-b1f6cc3e1c02",
   "metadata": {},
   "outputs": [
    {
     "data": {
      "text/plain": [
       "'M'"
      ]
     },
     "execution_count": 3,
     "metadata": {},
     "output_type": "execute_result"
    }
   ],
   "source": [
    "name[0]"
   ]
  },
  {
   "cell_type": "code",
   "execution_count": 5,
   "id": "1617a26c-8055-43f8-b635-a9973c469b96",
   "metadata": {},
   "outputs": [
    {
     "data": {
      "text/plain": [
       "'y'"
      ]
     },
     "execution_count": 5,
     "metadata": {},
     "output_type": "execute_result"
    }
   ],
   "source": [
    "name[4]"
   ]
  },
  {
   "cell_type": "code",
   "execution_count": 7,
   "id": "03cb431e-508c-4484-8b35-7d1bf4577364",
   "metadata": {},
   "outputs": [
    {
     "data": {
      "text/plain": [
       "'Mont'"
      ]
     },
     "execution_count": 7,
     "metadata": {},
     "output_type": "execute_result"
    }
   ],
   "source": [
    "name[:4]"
   ]
  },
  {
   "cell_type": "code",
   "execution_count": 9,
   "id": "1f1c957a-41e8-43e1-92f1-bf26c16ea769",
   "metadata": {},
   "outputs": [
    {
     "data": {
      "text/plain": [
       "'MontyMontyMonty'"
      ]
     },
     "execution_count": 9,
     "metadata": {},
     "output_type": "execute_result"
    }
   ],
   "source": [
    "name * 3"
   ]
  },
  {
   "cell_type": "code",
   "execution_count": 11,
   "id": "131f4339-eb8f-4b8b-a3db-89cc9ecccd0f",
   "metadata": {},
   "outputs": [
    {
     "data": {
      "text/plain": [
       "'Monty Python'"
      ]
     },
     "execution_count": 11,
     "metadata": {},
     "output_type": "execute_result"
    }
   ],
   "source": [
    "' '.join(['Monty', 'Python'])"
   ]
  },
  {
   "cell_type": "code",
   "execution_count": 13,
   "id": "c20f6e4b-7e05-49fa-a0c1-73143828d303",
   "metadata": {},
   "outputs": [
    {
     "data": {
      "text/plain": [
       "['Monty', 'Python']"
      ]
     },
     "execution_count": 13,
     "metadata": {},
     "output_type": "execute_result"
    }
   ],
   "source": [
    "'Monty Python'.split()"
   ]
  },
  {
   "cell_type": "code",
   "execution_count": 19,
   "id": "66449365-9cc7-4c28-80ac-6eb8e921d4ca",
   "metadata": {},
   "outputs": [],
   "source": [
    "saying = ['Afeter', 'all', 'is', 'said', 'and', 'done', 'more', 'is', 'said', 'than', 'done']"
   ]
  },
  {
   "cell_type": "code",
   "execution_count": 41,
   "id": "38ac0484-7cee-4091-be23-3ce761aff6fa",
   "metadata": {},
   "outputs": [
    {
     "data": {
      "text/plain": [
       "['done', 'is', 'motre', 'said', 'than']"
      ]
     },
     "execution_count": 41,
     "metadata": {},
     "output_type": "execute_result"
    }
   ],
   "source": [
    "tokens = set(saying)\n",
    "tokens = sorted(tokens)\n",
    "tokens[3:]"
   ]
  },
  {
   "cell_type": "code",
   "execution_count": null,
   "id": "7abb5363-cbff-42db-a694-aa220d233a54",
   "metadata": {},
   "outputs": [],
   "source": []
  }
 ],
 "metadata": {
  "kernelspec": {
   "display_name": "Python 3 (ipykernel)",
   "language": "python",
   "name": "python3"
  },
  "language_info": {
   "codemirror_mode": {
    "name": "ipython",
    "version": 3
   },
   "file_extension": ".py",
   "mimetype": "text/x-python",
   "name": "python",
   "nbconvert_exporter": "python",
   "pygments_lexer": "ipython3",
   "version": "3.11.7"
  }
 },
 "nbformat": 4,
 "nbformat_minor": 5
}
