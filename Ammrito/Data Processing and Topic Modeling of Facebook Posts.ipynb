{
 "cells": [
  {
   "cell_type": "code",
   "execution_count": 7,
   "id": "4d2c5cdb-aa4e-4414-81d8-2928649ba771",
   "metadata": {},
   "outputs": [],
   "source": [
    "import pandas as pd\n"
   ]
  },
  {
   "cell_type": "markdown",
   "id": "185ff781-448c-493c-bc21-ba9e605d68c2",
   "metadata": {},
   "source": [
    "I import pandas for creating and managing a structured table (DataFrame). \n",
    "It allows me to organize and process the extracted data effectively."
   ]
  },
  {
   "cell_type": "code",
   "execution_count": 10,
   "id": "45f553ab-8c66-4014-a6a9-f0aef32ba626",
   "metadata": {},
   "outputs": [
    {
     "name": "stdout",
     "output_type": "stream",
     "text": [
      "['\\ufeffMatt Walsh', 'Matt Walsh is an American conservative political commentator, author, and media host, born on June 18, 1986. He is best known for hosting \"The Matt Walsh Show,\" a podcast produced by The Daily Wire, where he discusses various political and cultural topics from a conservative perspective', '11/12/2024 (https://www.facebook.com/share/p/12HyBPz5vYQ/)', 'To any leftist contemplating cutting off family members for the unforgivable crime of having minds and opinions of their own: Sure, go ahead. But when you’re posting some tearful, self-pitying video in a few years about how lonely and sad you are, please don’t expect a shred of sympathy from the rest of us. You’re choosing isolation. You’re willingly disowning the only people who care about you unconditionally.', 'Because here’s the thing: the rest of us don’t want to be around you, don’t want to talk to you, and frankly don’t even want to know you. Why? Because you’re insufferable, perpetually offended, and a nightmare to be around. But your family? They love you anyway. They’re the only ones who will still care about you even when you’re being impossible. Push them away, and you’ll be left with no one. You’ll be alienated, miserable, and isolated from the only people who ever truly cared about you. And let’s be clear—you’ll deserve it.', 'But hey, you’ll have made a bold statement about Trump, one that will make no difference to the world. All it will do is add a little more misery to your own life. But that’s the choice you’re making.', '11/12/2024 (https://www.facebook.com/share/p/1B4NvNVhVd/)', 'Now that the GOP has officially secured control of the House, Republicans will have full control over Washington come January when President-elect Trump returns to the White House. Speaker Mike Johnson will be at the helm of this GOP-led House, and for the first time in years, Republicans control the House, Senate, and presidency. So, yes—rejoice. This is a win. But with that win comes responsibility, and the clock is ticking.', 'Now, if you’re a Republican in Congress or advising Trump, consider this your two-year warning. You have two years—at most—to prove you can actually deliver on your promises. There’s no excuse this time; Democrats are out of the way. Conservatives have been handed a rare window, and we’d be naive to assume it’ll stay open beyond two years. Historically, power swings back in the midterms, and if the GOP doesn’t take swift action, that window could slam shut faster than you can say “2026.” So this is it: the time to move on every part of the agenda conservatives have been talking about for decades.', 'And, no, we’re not here to “be patient.” I don’t want to hear any calls for “measured steps” or “moderate compromises.” We’ve heard all that nonsense before, and it got us nowhere. In 2016, we were told to trust the process. Well, Republicans had control then, too, and what did they achieve? A few tax cuts. That’s it. It was a wasted opportunity. We cannot afford another one. They need to start stacking up wins from day one. Being in the driver’s seat means showing us results. Winning is fantastic, but it only means something if you can make use of it.']\n"
     ]
    }
   ],
   "source": [
    "file_path = '/Users/ammritolalroy/Downloads/Copy of Thesis Data (1).txt'\n",
    "\n",
    "with open(file_path, 'r') as file:\n",
    "    content = [line.strip() for line in file if line.strip()]\n",
    "\n",
    "print(content[:10])  # Check the first 10 lines to ensure the file is loaded correctly.\n"
   ]
  },
  {
   "cell_type": "markdown",
   "id": "51e6470b-b6bc-47de-a953-bcaaf5c04229",
   "metadata": {},
   "source": [
    "I specify the file path for the .txt file that contains the Facebook posts. \n",
    "I use `open()` to load the file and read its contents line by line. \n",
    "The `strip()` method removes extra spaces, and I skip empty lines to avoid unnecessary processing. \n",
    "I print the first 10 lines to verify that the content is loaded as expected.\n"
   ]
  },
  {
   "cell_type": "code",
   "execution_count": 17,
   "id": "9141fda6-ad57-438e-92f6-0082645aa059",
   "metadata": {},
   "outputs": [],
   "source": [
    "authors, dates, posts, links = [], [], [], []\n"
   ]
  },
  {
   "cell_type": "markdown",
   "id": "53feb62c-d32b-47ce-a7d4-8520ee056de2",
   "metadata": {},
   "source": [
    "I initialize empty lists to store each column of data:\n",
    "- `authors` will hold the names of the post authors.\n",
    "- `dates` will contain the post dates.\n",
    "- `posts` will have the text content of the posts.\n",
    "- `links` will include the URLs associated with the posts.\n"
   ]
  },
  {
   "cell_type": "code",
   "execution_count": 22,
   "id": "8715bf54-3018-4dfd-b738-306bb3aaea69",
   "metadata": {},
   "outputs": [
    {
     "name": "stdout",
     "output_type": "stream",
     "text": [
      "Incomplete block at index 156, skipping.\n"
     ]
    }
   ],
   "source": [
    "for i in range(0, len(content), 4):\n",
    "    if i + 3 < len(content):  # Ensure there are enough lines for a complete block\n",
    "        authors.append(content[i])        # First line: Author\n",
    "        dates.append(content[i + 1])      # Second line: Date\n",
    "        posts.append(content[i + 2])      # Third line: Post content\n",
    "        links.append(content[i + 3])      # Fourth line: Link\n",
    "    else:\n",
    "        print(f\"Incomplete block at index {i}, skipping.\")\n"
   ]
  },
  {
   "cell_type": "markdown",
   "id": "28e406f4-8260-41e7-91d7-d5efcadf25c8",
   "metadata": {},
   "source": [
    "I loop through the content in steps of 4 lines since each post consists of:\n",
    "1. Author (line 1)\n",
    "2. Date (line 2)\n",
    "3. Post content (line 3)\n",
    "4. Link (line 4)\n",
    "\n",
    "Before processing each block, I ensure that there are enough lines remaining to form a complete block. If not, I skip the incomplete block and log a message for reference.\n"
   ]
  },
  {
   "cell_type": "code",
   "execution_count": 25,
   "id": "725787e7-de14-4b51-a9b5-e5f9de4a2927",
   "metadata": {},
   "outputs": [
    {
     "name": "stdout",
     "output_type": "stream",
     "text": [
      "                                              Author  \\\n",
      "0                                        ﻿Matt Walsh   \n",
      "1  Because here’s the thing: the rest of us don’t...   \n",
      "2  Now, if you’re a Republican in Congress or adv...   \n",
      "3  Apparently, Barack Obama is “nervous” about hi...   \n",
      "4  11/12/2024 (https://www.facebook.com/share/p/1...   \n",
      "\n",
      "                                                Date  \\\n",
      "0  Matt Walsh is an American conservative politic...   \n",
      "1  But hey, you’ll have made a bold statement abo...   \n",
      "2  And, no, we’re not here to “be patient.” I don...   \n",
      "3  If you’re a conservative, you can clearly see ...   \n",
      "4  It’s become pretty obvious that there’s a full...   \n",
      "\n",
      "                                                Post  \\\n",
      "0  11/12/2024 (https://www.facebook.com/share/p/1...   \n",
      "1  11/12/2024 (https://www.facebook.com/share/p/1...   \n",
      "2  Let’s also remember that losing has always bee...   \n",
      "3  And if you’re on the Left? Well, sure, you may...   \n",
      "4  This is exactly what the left believes. In the...   \n",
      "\n",
      "                                                Link  \n",
      "0  To any leftist contemplating cutting off famil...  \n",
      "1  Now that the GOP has officially secured contro...  \n",
      "2  11/12/2024 (https://www.facebook.com/share/p/1...  \n",
      "3  So who, exactly, is going to look at the Obama...  \n",
      "4  Contrast that with newly-appointed “border cza...  \n"
     ]
    }
   ],
   "source": [
    "data = {\n",
    "    \"Author\": authors,\n",
    "    \"Date\": dates,\n",
    "    \"Post\": posts,\n",
    "    \"Link\": links\n",
    "}\n",
    "\n",
    "df = pd.DataFrame(data)\n",
    "print(df.head())  # Verify the structure of the DataFrame\n"
   ]
  },
  {
   "cell_type": "markdown",
   "id": "ed36a05b-d5b8-4906-8633-9854ca6d25fc",
   "metadata": {},
   "source": [
    "I create a pandas DataFrame using the extracted data. Each list corresponds to a column in the table:\n",
    "- `Author` for the post authors.\n",
    "- `Date` for the post dates.\n",
    "- `Post` for the text content of the posts.\n",
    "- `Link` for the URLs.\n",
    "\n",
    "I then display the first few rows of the DataFrame to confirm that the data is structured correctly.\n"
   ]
  },
  {
   "cell_type": "code",
   "execution_count": 32,
   "id": "c43e1e56-2e41-4193-b41f-3921ae5c7430",
   "metadata": {},
   "outputs": [],
   "source": [
    "df.to_csv('facebook_posts.csv', index=False)\n"
   ]
  },
  {
   "cell_type": "markdown",
   "id": "4557cbf8-9d13-4de2-bb52-fe9fbb2df589",
   "metadata": {},
   "source": [
    "I save the DataFrame to a CSV file named `facebook_posts.csv` for future use. \n",
    "This allows me to reuse the structured data without needing to reprocess the original file.\n"
   ]
  },
  {
   "cell_type": "code",
   "execution_count": 34,
   "id": "6ff429a4-5fb3-495a-9afc-cbe3b07c38f3",
   "metadata": {},
   "outputs": [
    {
     "name": "stdout",
     "output_type": "stream",
     "text": [
      "CSV file 'facebook_posts.csv' has been saved successfully!\n"
     ]
    }
   ],
   "source": [
    "df.to_csv('facebook_posts.csv', index=False)\n",
    "print(\"CSV file 'facebook_posts.csv' has been saved successfully!\")\n"
   ]
  },
  {
   "cell_type": "code",
   "execution_count": 38,
   "id": "ffd623e7-6d3a-473d-9411-5400d581ebe1",
   "metadata": {},
   "outputs": [
    {
     "name": "stdout",
     "output_type": "stream",
     "text": [
      "                                               Author  \\\n",
      "0                                         ﻿Matt Walsh   \n",
      "1   Because here’s the thing: the rest of us don’t...   \n",
      "2   Now, if you’re a Republican in Congress or adv...   \n",
      "3   Apparently, Barack Obama is “nervous” about hi...   \n",
      "4   11/12/2024 (https://www.facebook.com/share/p/1...   \n",
      "5   11/11/2024 (https://www.facebook.com/share/p/1...   \n",
      "6   The Left has tried every coping mechanism in t...   \n",
      "7   FEMA’s director has to go, and the so-called “...   \n",
      "8   11/11/2024 (https://www.facebook.com/share/p/1...   \n",
      "9   Apparently, I’ve stumbled into a bit of contro...   \n",
      "10  11/10/2024 (https://www.facebook.com/share/p/1...   \n",
      "11                                       Barack Obama   \n",
      "12  Michelle and I could not be prouder of Vice Pr...   \n",
      "13  10/14/2024 (https://www.facebook.com/share/p/1...   \n",
      "14  I want to make sure you understand this: Congr...   \n",
      "15  Lilly did what so many Americans before her ha...   \n",
      "16  Because if enough of us make our voices heard,...   \n",
      "17  09/17/2024 (https://www.facebook.com/share/p/1...   \n",
      "18  They’re the ones who built this country. Our t...   \n",
      "19  08/07/2024 (https://www.facebook.com/share/p/1...   \n",
      "20                                     Donald J Trump   \n",
      "21  I was in Allentown, Pennsylvania tonight with ...   \n",
      "22                                         29 October   \n",
      "23                                         22 October   \n",
      "24  THANK YOU, ARIZONA! Early voting by mail and i...   \n",
      "25                                          October 7   \n",
      "26                                   Elizabeth Warren   \n",
      "27  We have to learn from what happened. And then,...   \n",
      "28  These tactics doomed some nominations entirely...   \n",
      "29  2. We must fight Trump in the courts. Yes, ext...   \n",
      "30  To resist Trump’s threats to abuse state power...   \n",
      "31  When I first ran for Senate, I said I’d work t...   \n",
      "32  While Kamala Harris and I worked in the Senate...   \n",
      "33             Delayed emergency funds to Puerto Rico   \n",
      "34  Refused to activate a housing program for disp...   \n",
      "35  110/27/2024 (https://www.facebook.com/share/p/...   \n",
      "36              Billionaires are sucking up to Trump.   \n",
      "37  Corporations like Coca-Cola, PepsiCo, and Gene...   \n",
      "38  But Kamala Harris cares deep down, and she wil...   \n",
      "\n",
      "                                                 Date  \\\n",
      "0   Matt Walsh is an American conservative politic...   \n",
      "1   But hey, you’ll have made a bold statement abo...   \n",
      "2   And, no, we’re not here to “be patient.” I don...   \n",
      "3   If you’re a conservative, you can clearly see ...   \n",
      "4   It’s become pretty obvious that there’s a full...   \n",
      "5   According to this guy named Derek, if you aren...   \n",
      "6   In a truly impressive display of ignorance, Jo...   \n",
      "7   Imagine what else we’d uncover if this is what...   \n",
      "8   Just ran across a guy on TikTok giving his fol...   \n",
      "9   What followed was a flood of furious replies. ...   \n",
      "10  If you're worried about your so-called reprodu...   \n",
      "11  11/06/2024 (https://www.facebook.com/share/p/1...   \n",
      "12  As I said on the campaign trail, America has b...   \n",
      "13  Congratulations to Nihon Hidankyo, a group of ...   \n",
      "14  So don’t be giving him credit for that. And do...   \n",
      "15  10/10/2024 (https://www.facebook.com/share/p/1...   \n",
      "16  10/04/2024 (https://www.facebook.com/share/p/1...   \n",
      "17  Today we celebrate Constitution Day and Citize...   \n",
      "18  09/09/2024 (https://www.facebook.com/share/p/1...   \n",
      "19  Governor Tim Walz doesn’t just have the experi...   \n",
      "20                                        31 October:   \n",
      "21  With your vote in this election, I WILL END IN...   \n",
      "22  THANK YOU, MICHIGAN! We are one people, one fa...   \n",
      "23  THANK YOU ARIZONA! I’m thrilled to be back in ...   \n",
      "24                                         October 11   \n",
      "25  Just 27 days from now, we are going to WIN Pen...   \n",
      "26  Elizabeth Warren is a U.S. Senator from Massac...   \n",
      "27  1. We have to fight every fight in Congress. W...   \n",
      "28  Remember the GOP’s attempts to repeal the ACA?...   \n",
      "29  3. I understand my assignment in the Senate, a...   \n",
      "30  And Senate Majority Leader Chuck Schumer must ...   \n",
      "31  Now, we’re at a crossroads. We’ve got to bring...   \n",
      "32                                                 ✔️   \n",
      "33                                                 ✔️   \n",
      "34                                                 ✔️   \n",
      "35  Right now, because Donald Trump’s Supreme Cour...   \n",
      "36  They’re prancing on stage and silencing dissen...   \n",
      "37            We’re calling it out and fighting back.   \n",
      "38  10/23/2024 (https://www.facebook.com/share/p/1...   \n",
      "\n",
      "                                                 Post  \\\n",
      "0   11/12/2024 (https://www.facebook.com/share/p/1...   \n",
      "1   11/12/2024 (https://www.facebook.com/share/p/1...   \n",
      "2   Let’s also remember that losing has always bee...   \n",
      "3   And if you’re on the Left? Well, sure, you may...   \n",
      "4   This is exactly what the left believes. In the...   \n",
      "5   Now, I think we all get the point, but it’s wo...   \n",
      "6   But no, this Ivy League psychiatrist insists t...   \n",
      "7   The federal bureaucracy has declared war on th...   \n",
      "8   Never mind the fact that none of these people ...   \n",
      "9   So I’ll say it here, just in case any of these...   \n",
      "10  Now, I hesitate to make this point because I d...   \n",
      "11  Over the last few weeks and through Election D...   \n",
      "12  The good news is that these problems are solva...   \n",
      "13  10/28/2024 (https://www.facebook.com/share/p/1...   \n",
      "14  10/13/2024 (https://www.facebook.com/share/p/1...   \n",
      "15     It was great to be back in Pennsylvania today.   \n",
      "16  Stevie Wonder is a musical genius whose electr...   \n",
      "17  But what makes America great is not just words...   \n",
      "18  Democracy is one of the world’s boldest experi...   \n",
      "19  As governor, Tim helped families and businesse...   \n",
      "20  While I am running a campaign of positive solu...   \n",
      "21  This election is a choice between whether we w...   \n",
      "22                                         25 October   \n",
      "23  With your help, 12 DAYS from now, we are going...   \n",
      "24  From the very beginning of this journey, I hav...   \n",
      "25                                          October 5   \n",
      "26  11/08/2024 (https://www.facebook.com/share/p/1...   \n",
      "27  During the Trump years, Congress stepped up it...   \n",
      "28  Democrats should also acknowledge that seeking...   \n",
      "29  Our work must include states that are passed o...   \n",
      "30  To those feeling despair: remember, every step...   \n",
      "31  I’m running for re-election to the U.S Senate ...   \n",
      "32     Totally botched the response to Irma and Maria   \n",
      "33                          Lied about the death toll   \n",
      "34  Belittled Puerto Ricans' suffering, tossing pa...   \n",
      "35  If Donald Trump and JD Vance make it to the Wh...   \n",
      "36  Donald Trump is easily manipulated—and the ric...   \n",
      "37  10/24/2024 (https://www.facebook.com/share/p/1...   \n",
      "38  Putting more power in the hands of unions mean...   \n",
      "\n",
      "                                                 Link  \n",
      "0   To any leftist contemplating cutting off famil...  \n",
      "1   Now that the GOP has officially secured contro...  \n",
      "2   11/12/2024 (https://www.facebook.com/share/p/1...  \n",
      "3   So who, exactly, is going to look at the Obama...  \n",
      "4   Contrast that with newly-appointed “border cza...  \n",
      "5   11/11/2024 (https://www.facebook.com/share/p/1...  \n",
      "6   11/13/2024 (https://www.facebook.com/share/p/1...  \n",
      "7   And here’s what’s going to happen: when the ne...  \n",
      "8   11/10/2024 (https://www.facebook.com/share/p/1...  \n",
      "9                But hey, we’ll see how it plays out.  \n",
      "10  Although I am very encouraged and also greatly...  \n",
      "11  This is obviously not the outcome we had hoped...  \n",
      "12  In a country as big and diverse as ours, we wo...  \n",
      "13  I often hear folks say, “Donald Trump sent me ...  \n",
      "14  Lilly Ledbetter never set out to be a trailbla...  \n",
      "15  Folks, if this election is making you feel exc...  \n",
      "16  That’s why I’m proud of Higher Ground and Ques...  \n",
      "17  If you've ever wondered if America is big enou...  \n",
      "18  No nation, no society, has ever tried to build...  \n",
      "19  Let’s do everything we can – volunteer, donate...  \n",
      "20                                         30 October  \n",
      "21  I am asking you to be excited about the future...  \n",
      "22  THANK YOU LAS VEGAS, NEVADA! The polls are ope...  \n",
      "23                                         October 13  \n",
      "24  I will NEVER QUIT, I will NEVER BEND, I will N...  \n",
      "25  Via @TeamTrump: “Yesterday, on October 7th, Pr...  \n",
      "26  To everyone who is afraid of what happens next...  \n",
      "27  In the Senate, Democrats gave no quarter to ra...  \n",
      "28  Uniting against Trump’s legislative agenda is ...  \n",
      "29  4. While still in charge of the Senate and the...  \n",
      "30  11/04/2024 (https://www.facebook.com/share/v/1...  \n",
      "31  10/28/2024 (https://www.facebook.com/share/p/1...  \n",
      "32                                                 ✔️  \n",
      "33                                                 ✔️  \n",
      "34  Donald Trump has never cared about Puerto Rico...  \n",
      "35  10/26/2024 (https://www.facebook.com/share/p/1...  \n",
      "36  10/25/2024 (https://www.facebook.com/share/p/1...  \n",
      "37  Donald Trump has no plan to lower costs for fa...  \n",
      "38  Strong unions mean higher wages, better benefi...  \n"
     ]
    }
   ],
   "source": [
    "print(df)\n"
   ]
  },
  {
   "cell_type": "code",
   "execution_count": 40,
   "id": "ae8c3162-cbcd-43d4-9143-8956aa7b3c30",
   "metadata": {},
   "outputs": [
    {
     "data": {
      "text/html": [
       "<a href='facebook_posts.csv' target='_blank'>facebook_posts.csv</a><br>"
      ],
      "text/plain": [
       "/Users/ammritolalroy/facebook_posts.csv"
      ]
     },
     "execution_count": 40,
     "metadata": {},
     "output_type": "execute_result"
    }
   ],
   "source": [
    "from IPython.display import FileLink\n",
    "\n",
    "# Create a downloadable link for the file\n",
    "FileLink('facebook_posts.csv')"
   ]
  },
  {
   "cell_type": "code",
   "execution_count": 44,
   "id": "0e4d512e-5d76-4936-b9fe-c477b1ca8fcc",
   "metadata": {},
   "outputs": [
    {
     "name": "stdout",
     "output_type": "stream",
     "text": [
      "                                              Author  \\\n",
      "0                                        ﻿Matt Walsh   \n",
      "1  Because here’s the thing: the rest of us don’t...   \n",
      "2  Now, if you’re a Republican in Congress or adv...   \n",
      "3  Apparently, Barack Obama is “nervous” about hi...   \n",
      "4  11/12/2024 (https://www.facebook.com/share/p/1...   \n",
      "\n",
      "                                                Date  \\\n",
      "0  Matt Walsh is an American conservative politic...   \n",
      "1  But hey, you’ll have made a bold statement abo...   \n",
      "2  And, no, we’re not here to “be patient.” I don...   \n",
      "3  If you’re a conservative, you can clearly see ...   \n",
      "4  It’s become pretty obvious that there’s a full...   \n",
      "\n",
      "                                                Post  \\\n",
      "0  11/12/2024 (https://www.facebook.com/share/p/1...   \n",
      "1  11/12/2024 (https://www.facebook.com/share/p/1...   \n",
      "2  Let’s also remember that losing has always bee...   \n",
      "3  And if you’re on the Left? Well, sure, you may...   \n",
      "4  This is exactly what the left believes. In the...   \n",
      "\n",
      "                                                Link  \n",
      "0  To any leftist contemplating cutting off famil...  \n",
      "1  Now that the GOP has officially secured contro...  \n",
      "2  11/12/2024 (https://www.facebook.com/share/p/1...  \n",
      "3  So who, exactly, is going to look at the Obama...  \n",
      "4  Contrast that with newly-appointed “border cza...  \n"
     ]
    }
   ],
   "source": [
    "df = pd.read_csv('facebook_posts.csv')\n",
    "\n",
    "print(df.head())\n",
    "\n",
    "from sklearn.feature_extraction.text import CountVectorizer\n",
    "from sklearn.decomposition import LatentDirichletAllocation\n"
   ]
  },
  {
   "cell_type": "markdown",
   "id": "dcf7cb80-26b0-40fc-93ac-cb72608e0a1b",
   "metadata": {},
   "source": [
    "I load the previously saved facebook_posts.csv file into a pandas DataFrame. \n",
    "This file contains structured data for Facebook posts, with columns for Author, Date, Post, and Link. \n",
    "I preview the first few rows of the DataFrame to ensure it has been loaded correctly.\n",
    "\n",
    "I also import:\n",
    "- CountVectorizer from sklearn.feature_extraction.text, which converts text into a term-document matrix.\n",
    "- LatentDirichletAllocation (LDA) from sklearn.decomposition, which is used to extract topics from the text data.\n"
   ]
  },
  {
   "cell_type": "code",
   "execution_count": 47,
   "id": "8d097b6a-2f83-4641-9a66-aff4e759a731",
   "metadata": {},
   "outputs": [
    {
     "name": "stdout",
     "output_type": "stream",
     "text": [
      "0    11/12/2024 (https://www.facebook.com/share/p/1...\n",
      "1    11/12/2024 (https://www.facebook.com/share/p/1...\n",
      "2    Let’s also remember that losing has always bee...\n",
      "3    And if you’re on the Left? Well, sure, you may...\n",
      "4    This is exactly what the left believes. In the...\n",
      "Name: Post, dtype: object\n"
     ]
    }
   ],
   "source": [
    "text_data = df['Post'].fillna('')  \n",
    "\n",
    "print(text_data.head())\n"
   ]
  },
  {
   "cell_type": "markdown",
   "id": "1d0f9f8b-fb07-4574-9866-f2396b6c1057",
   "metadata": {},
   "source": [
    "I extract the Post column from the DataFrame since it contains the text data for topic modeling. \n",
    "To handle any missing values, I replace them with an empty string using the fillna('') method. \n",
    "Finally, I preview the first few rows of the text data to ensure everything is in order.\n"
   ]
  },
  {
   "cell_type": "code",
   "execution_count": 50,
   "id": "a0a28018-6fa7-4a8f-9269-23756bc34095",
   "metadata": {},
   "outputs": [
    {
     "name": "stdout",
     "output_type": "stream",
     "text": [
      "(39, 85)\n"
     ]
    }
   ],
   "source": [
    "vectorizer = CountVectorizer(max_df=0.95, min_df=2, stop_words='english')\n",
    "\n",
    "term_matrix = vectorizer.fit_transform(text_data)\n",
    "\n",
    "print(term_matrix.shape)  \n"
   ]
  },
  {
   "cell_type": "markdown",
   "id": "17ebc1ab-6f04-4b9a-a6c2-0dcd22426411",
   "metadata": {},
   "source": [
    "I use CountVectorizer to convert the text data into a term-document matrix. \n",
    "This matrix represents the frequency of terms across all the posts, \n",
    "allowing LDA to identify patterns and extract topics.\n",
    "\n",
    "Key parameters in CountVectorizer:\n",
    "- max_df=0.95: Excludes very common words that appear in more than 95% of the posts.\n",
    "- min_df=2: Excludes rare words that appear in fewer than 2 posts.\n",
    "- stop_words='english': Removes common English stop words like \"the\" and \"and\".\n",
    "\n",
    "I then check the dimensions of the resulting matrix using term_matrix.shape, \n",
    "which gives the number of posts (documents) and unique terms (features).\n"
   ]
  },
  {
   "cell_type": "code",
   "execution_count": 53,
   "id": "3324365f-239f-4b9f-8815-1c22b2ec8b52",
   "metadata": {},
   "outputs": [],
   "source": [
    "lda_model = LatentDirichletAllocation(n_components=5, random_state=42)\n",
    "\n",
    "lda_model.fit(term_matrix)\n",
    "\n",
    "topics = lda_model.components_\n",
    "feature_names = vectorizer.get_feature_names_out()\n"
   ]
  },
  {
   "cell_type": "markdown",
   "id": "c75405a7-99ec-4feb-a9c7-9cf8990f5ffe",
   "metadata": {},
   "source": [
    "I initialize the LDA model with 5 topics (n_components=5) and fit it to the term-document matrix. \n",
    "The components_ attribute of the model contains the topics, \n",
    "and get_feature_names_out() retrieves the terms associated with the topics.\n"
   ]
  },
  {
   "cell_type": "code",
   "execution_count": 56,
   "id": "b40322ba-2c55-4387-bbde-b6501a96a56e",
   "metadata": {},
   "outputs": [
    {
     "name": "stdout",
     "output_type": "stream",
     "text": [
      "Topic #1:\n",
      "going party just ll democratic america like place great left\n",
      "\n",
      "Topic #2:\n",
      "trump want people didn family level left like fact don\n",
      "\n",
      "Topic #3:\n",
      "trump make donald october progress work throw remember defeat vance\n",
      "\n",
      "Topic #4:\n",
      "years election country great good fight families begin history running\n",
      "\n",
      "Topic #5:\n",
      "share 2024 com facebook https www people power 11 10\n",
      "\n"
     ]
    }
   ],
   "source": [
    "def display_topics(model, feature_names, num_top_words=10):\n",
    "    for topic_idx, topic in enumerate(model.components_):\n",
    "        print(f\"Topic #{topic_idx + 1}:\")\n",
    "        print(\" \".join([feature_names[i] for i in topic.argsort()[:-num_top_words - 1:-1]]))\n",
    "        print()\n",
    "\n",
    "display_topics(lda_model, feature_names)\n"
   ]
  },
  {
   "cell_type": "markdown",
   "id": "603ff22b-098f-4cc3-ab6e-0d8659d45d45",
   "metadata": {},
   "source": [
    "I define a function display_topics() to display the top words for each topic based on their importance. \n",
    "This function loops through the topics and prints the top 10 words for each. \n",
    "I then call this function to understand the themes in the data.\n"
   ]
  },
  {
   "cell_type": "code",
   "execution_count": null,
   "id": "0af281a5-2933-4fe5-ac24-29834507fca2",
   "metadata": {},
   "outputs": [],
   "source": []
  }
 ],
 "metadata": {
  "kernelspec": {
   "display_name": "Python 3 (ipykernel)",
   "language": "python",
   "name": "python3"
  },
  "language_info": {
   "codemirror_mode": {
    "name": "ipython",
    "version": 3
   },
   "file_extension": ".py",
   "mimetype": "text/x-python",
   "name": "python",
   "nbconvert_exporter": "python",
   "pygments_lexer": "ipython3",
   "version": "3.11.7"
  }
 },
 "nbformat": 4,
 "nbformat_minor": 5
}
